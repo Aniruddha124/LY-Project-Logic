{
 "cells": [
  {
   "cell_type": "code",
   "execution_count": 5,
   "id": "ff2e16b8",
   "metadata": {},
   "outputs": [],
   "source": [
    "import os\n",
    "import pandas as pd\n",
    "import uuid\n",
    " \n",
    " \n",
    "class FileSettings(object):\n",
    "    def __init__(self, file_name, row_size=100):\n",
    "        self.file_name = file_name\n",
    "        self.row_size = row_size\n",
    " \n",
    " \n",
    "class FileSplitter(object):\n",
    " \n",
    "    def __init__(self, file_settings):\n",
    "        self.file_settings = file_settings\n",
    " \n",
    "        if type(self.file_settings).__name__ != \"FileSettings\":\n",
    "            raise Exception(\"Please pass correct instance \")\n",
    " \n",
    "        self.df = pd.read_csv(self.file_settings.file_name,\n",
    "                              chunksize=self.file_settings.row_size)\n",
    " \n",
    "    def run(self, directory=\"temp\"):\n",
    " \n",
    "        try:os.makedirs(directory)\n",
    "        except Exception as e:pass\n",
    " \n",
    "        counter = 0\n",
    " \n",
    "        while True:\n",
    "            try:\n",
    "                file_name = \"{}/{}_{}.csv\".format(\n",
    "                    directory,  self.file_settings.file_name.split(\".\")[0], counter\n",
    "                )\n",
    "                df = next(self.df).to_csv(file_name)\n",
    "                counter = counter + 1\n",
    "            except StopIteration:\n",
    "                break\n",
    "            except Exception as e:\n",
    "                print(\"Error:\",e)\n",
    "                break\n",
    " \n",
    "        return True\n",
    " \n",
    " \n",
    "def main():\n",
    "    helper =  FileSplitter(FileSettings(\n",
    "        file_name='DG_out.csv',\n",
    "        row_size=1000000\n",
    "    ))\n",
    "    helper.run()\n",
    " \n",
    "main()"
   ]
  }
 ],
 "metadata": {
  "kernelspec": {
   "display_name": "Python 3 (ipykernel)",
   "language": "python",
   "name": "python3"
  },
  "language_info": {
   "codemirror_mode": {
    "name": "ipython",
    "version": 3
   },
   "file_extension": ".py",
   "mimetype": "text/x-python",
   "name": "python",
   "nbconvert_exporter": "python",
   "pygments_lexer": "ipython3",
   "version": "3.7.0"
  }
 },
 "nbformat": 4,
 "nbformat_minor": 5
}
